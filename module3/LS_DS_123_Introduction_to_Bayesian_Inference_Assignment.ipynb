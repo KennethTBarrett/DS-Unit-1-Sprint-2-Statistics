{
  "nbformat": 4,
  "nbformat_minor": 0,
  "metadata": {
    "colab": {
      "name": "LS_DS_123_Introduction_to_Bayesian_Inference_Assignment.ipynb",
      "provenance": [],
      "include_colab_link": true
    },
    "kernelspec": {
      "name": "python3",
      "display_name": "Python 3"
    }
  },
  "cells": [
    {
      "cell_type": "markdown",
      "metadata": {
        "id": "view-in-github",
        "colab_type": "text"
      },
      "source": [
        "<a href=\"https://colab.research.google.com/github/KennethTBarrett/DS-Unit-1-Sprint-2-Statistics/blob/master/module3/LS_DS_123_Introduction_to_Bayesian_Inference_Assignment.ipynb\" target=\"_parent\"><img src=\"https://colab.research.google.com/assets/colab-badge.svg\" alt=\"Open In Colab\"/></a>"
      ]
    },
    {
      "cell_type": "markdown",
      "metadata": {
        "id": "H7OLbevlbd_Z",
        "colab_type": "text"
      },
      "source": [
        "# Lambda School Data Science Module 123\n",
        "\n",
        "## Introduction to Bayesian Inference\n",
        "\n",
        "\n"
      ]
    },
    {
      "cell_type": "markdown",
      "metadata": {
        "id": "P-DzzRk5bf0z",
        "colab_type": "text"
      },
      "source": [
        "## Assignment - Code it up!\n",
        "\n",
        "We used pure math to apply Bayes Theorem to drug tests. Now write Python code to reproduce the results! This is purposefully open ended - you'll have to think about how you should represent probabilities and events. You can and should look things up.\n",
        "\n",
        "Specific goals/targets:\n",
        "\n",
        "### 1) Write a function \n",
        "\n",
        "`def prob_drunk_given_positive(prob_drunk_prior, false_positive_rate):` \n",
        "\n",
        "You should only truly need these two values in order to apply Bayes Theorem. In this example, imagine that individuals are taking a breathalyzer test with an 8% false positive rate, a 100% true positive rate, and that our prior belief about drunk driving in the population is 1/1000. \n",
        " - What is the probability that a person is drunk after one positive breathalyzer test?\n",
        " - What is the probability that a person is drunk after two positive breathalyzer tests?\n",
        " - How many positive breathalyzer tests are needed in order to have a probability that's greater than 95% that a person is drunk beyond the legal limit?\n",
        "\n",
        "### 2) Explore `scipy.stats.bayes_mvs`  \n",
        "Read its documentation, and experiment with it on data you've tested in other ways earlier this week.\n",
        " - Create a visualization comparing the results of a Bayesian approach to a traditional/frequentist approach. (with a large sample size they should look close to identical, however, take this opportunity to practice visualizing condfidence intervals in general. The following are some potential ways that you could visualize confidence intervals on your graph:\n",
        "  - [Matplotlib Error Bars](https://matplotlib.org/3.1.1/api/_as_gen/matplotlib.pyplot.errorbar.html)\n",
        "  - [Seaborn barplot with error bars](https://seaborn.pydata.org/generated/seaborn.barplot.html)\n",
        "  - [Vertical ines to show bounds of confidence interval](https://www.simplypsychology.org/confidence-interval.jpg)\n",
        "  - [Confidence Intervals on Box Plots](https://matplotlib.org/3.1.1/api/_as_gen/matplotlib.axes.Axes.boxplot.html)\n",
        "\n",
        "### 3) In your own words, summarize the difference between Bayesian and Frequentist statistics\n",
        "\n",
        "If you're unsure where to start, check out [this blog post of Bayes theorem with Python](https://dataconomy.com/2015/02/introduction-to-bayes-theorem-with-python/).\n",
        "\n"
      ]
    },
    {
      "cell_type": "markdown",
      "metadata": {
        "id": "nySCIB9TL1pY",
        "colab_type": "text"
      },
      "source": [
        "#### Assignment Part 1: Write a Function"
      ]
    },
    {
      "cell_type": "code",
      "metadata": {
        "id": "xpVhZyUnbf7o",
        "colab_type": "code",
        "colab": {}
      },
      "source": [
        "from scipy import stats\n",
        "def prob_drunk_given_positive(prob_drunk_prior, false_positive_rate, true_positive_rate):\n",
        "    posterior = prob_drunk_prior\n",
        "    for test in range (0, 1):\n",
        "      # This is the prior\n",
        "        p_Drunk = prob_drunk_prior\n",
        "      # This is the complement of the prior belief.\n",
        "        p_Not_Drunk = 1 - p_Drunk\n",
        "      # This is the true positive rate, 100%.\n",
        "        true_positive_rate = 1.0\n",
        "      # This is the false positive rate, 8%.\n",
        "        false_positive_rate = 0.08\n",
        "      # This is the numerator for Bayes Theorem\n",
        "        numerator = p_Drunk * true_positive_rate\n",
        "      # This is the denominator for Bayes Theorem.\n",
        "        denominator = (p_Not_Drunk * false_positive_rate) + (p_Drunk * true_positive_rate)\n",
        "      # Define the new posterior...\n",
        "        posterior = numerator / denominator\n",
        "    return posterior"
      ],
      "execution_count": 0,
      "outputs": []
    },
    {
      "cell_type": "code",
      "metadata": {
        "id": "evD7iEJyb1CV",
        "colab_type": "code",
        "colab": {}
      },
      "source": [
        "def ninety_five_percent(prob_drunk_prior, false_positive_rate, true_positive_rate):\n",
        "      for test in range (0, 10000000):\n",
        "        posterior = prob_drunk_prior\n",
        "      # This is the prior\n",
        "        p_Drunk = prob_drunk_prior\n",
        "      # This is the complement of the prior belief.\n",
        "        p_Not_Drunk = 1 - p_Drunk\n",
        "      # This is the true positive rate, 100%.\n",
        "        true_positive_rate = 1.0\n",
        "      # This is the false positive rate, 8%.\n",
        "        false_positive_rate = 0.08\n",
        "      # This is the numerator for Bayes Theorem\n",
        "        numerator = p_Drunk * true_positive_rate\n",
        "      # This is the denominator for Bayes Theorem.\n",
        "        denominator = (p_Not_Drunk * false_positive_rate) + (p_Drunk * true_positive_rate)\n",
        "      # Define the new posterior...\n",
        "        posterior = numerator / denominator\n",
        "\n",
        "        if posterior >= 0.95:\n",
        "          return posterior\n",
        "        else:\n",
        "          return('Error!')\n",
        "\n",
        "# Could not get this to work, what did I do wrong?"
      ],
      "execution_count": 0,
      "outputs": []
    },
    {
      "cell_type": "code",
      "metadata": {
        "id": "7J030z1fZqz8",
        "colab_type": "code",
        "colab": {
          "base_uri": "https://localhost:8080/",
          "height": 86
        },
        "outputId": "82611790-3c23-48ab-aa3c-8157f63ef27f"
      },
      "source": [
        "print('Probability that a person is drunk after 1 breathalyzer:', (prob_drunk_given_positive(1/1000, 0.08, 1.0)))\n",
        "print('Probability that a person is drunk after 2 breathalyzers:', (prob_drunk_given_positive(0.012357884330202669, 0.08, 1.0)))\n",
        "print('Probability that a person is drunk after 3 breathalyzers:', (prob_drunk_given_positive(0.13525210993291495, 0.08, 1.0)))\n",
        "print('Probability that a person is drunk after 4 breathalyzers:', (prob_drunk_given_positive(0.6615996951348605, 0.08, 1.0)), '(95%+ Chance)')"
      ],
      "execution_count": 57,
      "outputs": [
        {
          "output_type": "stream",
          "text": [
            "Probability that a person is drunk after 1 breathalyzer: 0.012357884330202669\n",
            "Probability that a person is drunk after 2 breathalyzers: 0.13525210993291495\n",
            "Probability that a person is drunk after 3 breathalyzers: 0.6615996951348605\n",
            "Probability that a person is drunk after 4 breathalyzers: 0.9606895076105054 (95%+ Chance)\n"
          ],
          "name": "stdout"
        }
      ]
    },
    {
      "cell_type": "markdown",
      "metadata": {
        "id": "eFpMMv10MMUb",
        "colab_type": "text"
      },
      "source": [
        "### Assignment Part 2: Explore `scipy.stats.bayes_mvs` (Optional)"
      ]
    },
    {
      "cell_type": "code",
      "metadata": {
        "id": "FtLsDs0LMdK9",
        "colab_type": "code",
        "colab": {}
      },
      "source": [
        "# I have read for about 20 minutes specifically into scipy.stats.bayes_mvs, however, do not have time to actually do the graph. According to\n",
        "# Instructor Austin Lasseter, this portion of the assignment is optional."
      ],
      "execution_count": 0,
      "outputs": []
    },
    {
      "cell_type": "markdown",
      "metadata": {
        "id": "Ts5Zsb_8MeIX",
        "colab_type": "text"
      },
      "source": [
        "#### Assignment Part 3: Difference Between Bayesian and Frequentist statistics"
      ]
    },
    {
      "cell_type": "markdown",
      "metadata": {
        "id": "-2eeXHljMjw0",
        "colab_type": "text"
      },
      "source": [
        "The difference between Baeysian and Frequentist statistics can be explained using the following example:\n",
        "\n",
        "You're standing in a room facing the wall. There is a hole in the center of the room for you to throw balls into. \n",
        "\n",
        "Frequentist statistics would be if you threw the balls and calculated the probability of each ball going into the hole.\n",
        "\n",
        "Bayesian Stastitics would be the same scenario, however, this time, you have a person watching you, telling you how far or short your throw was on the last throw, and using that prior knowledge when considering calculating your probability.\n"
      ]
    },
    {
      "cell_type": "markdown",
      "metadata": {
        "id": "uWgWjp3PQ3Sq",
        "colab_type": "text"
      },
      "source": [
        "## Resources"
      ]
    },
    {
      "cell_type": "markdown",
      "metadata": {
        "id": "QRgHqmYIQ9qn",
        "colab_type": "text"
      },
      "source": [
        "- [Worked example of Bayes rule calculation](https://en.wikipedia.org/wiki/Bayes'_theorem#Examples) (helpful as it fully breaks out the denominator)\n",
        "- [Source code for mvsdist in scipy](https://github.com/scipy/scipy/blob/90534919e139d2a81c24bf08341734ff41a3db12/scipy/stats/morestats.py#L139)"
      ]
    },
    {
      "cell_type": "markdown",
      "metadata": {
        "id": "GP7Jv1XvwtkX",
        "colab_type": "text"
      },
      "source": [
        "## Stretch Goals:\n",
        "\n",
        "- Go back and study the content from Modules 1 & 2 to make sure that you're really comfortable with them.\n",
        "- Apply a Bayesian technique to a problem you previously worked (in an assignment or project work) on from a frequentist (standard) perspective\n",
        "- Check out [PyMC3](https://docs.pymc.io/) (note this goes beyond hypothesis tests into modeling) - read the guides and work through some examples\n",
        "- Take PyMC3 further - see if you can build something with it!"
      ]
    },
    {
      "cell_type": "code",
      "metadata": {
        "id": "iDi0eFr1x-v_",
        "colab_type": "code",
        "colab": {}
      },
      "source": [
        ""
      ],
      "execution_count": 0,
      "outputs": []
    }
  ]
}